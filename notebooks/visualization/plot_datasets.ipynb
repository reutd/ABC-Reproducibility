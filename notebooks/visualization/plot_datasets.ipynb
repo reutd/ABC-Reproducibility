{
  "nbformat": 4,
  "nbformat_minor": 0,
  "metadata": {
    "colab": {
      "provenance": [],
      "gpuType": "V100",
      "machine_shape": "hm"
    },
    "kernelspec": {
      "name": "python3",
      "display_name": "Python 3"
    },
    "language_info": {
      "name": "python"
    },
    "accelerator": "GPU"
  },
  "cells": [
    {
      "cell_type": "code",
      "source": [
        "!pip install scanpy==1.9.1\n",
        "!pip install matplotlib==3.6"
      ],
      "metadata": {
        "id": "cMPrgehUBk-I"
      },
      "execution_count": null,
      "outputs": []
    },
    {
      "cell_type": "code",
      "execution_count": null,
      "metadata": {
        "id": "Rvp-ZZbxP-1I"
      },
      "outputs": [],
      "source": [
        "import os\n",
        "from pathlib import Path\n",
        "import sys\n",
        "import scanpy as sc\n",
        "\n",
        "# When using colab, set the path to the modules directory to use saved modules\n",
        "sys.path.insert(0,'/content/drive/MyDrive/modules/')\n",
        "import plottingData\n",
        "from datasets_dict import datasets\n",
        "\n",
        "\n",
        "methods = [\n",
        "            'ABC',\n",
        "            'scgen',\n",
        "            'AutoClass',\n",
        "            'CLEAR_embed',\n",
        "            'scanvi',\n",
        "            'scvi',\n",
        "            'scanorama',\n",
        "            'harmony_embed',\n",
        "            'combat',\n",
        "            'scDREAMER_embed',\n",
        "            'Seurat',\n",
        "            ]\n",
        "\n",
        "embedding_methods = ['ABC', 'harmony_embed', 'scDREAMER_embed', 'CLEAR_embed']\n",
        "lung_biopsies_batchs = ['A1', 'A2','A3', 'A4', 'A5', 'A6']\n",
        "\n",
        "path = '/content/drive/MyDrive/Colab Notebooks/integrationDatasets/integratedDatasets/'\n",
        "save_path = '/content/drive/MyDrive/Colab Notebooks/integrationDatasets/final_plots/'\n",
        "dpi = 300\n",
        "\n",
        "for method in methods:\n",
        "\n",
        "  for dataset_name in datasets.keys():\n",
        "\n",
        "    # get dataset parameters from the dictionary\n",
        "    label_key = datasets[dataset_name]['label_key']\n",
        "    batch_key = datasets[dataset_name]['batch_key']\n",
        "    categories = [batch_key, label_key]\n",
        "\n",
        "    # define paths\n",
        "    inPath = os.path.join(path, method)\n",
        "    outPath = os.path.join(save_path, method)\n",
        "\n",
        "    # create directory if does not exists\n",
        "    Path(outPath).mkdir(parents=True, exist_ok=True)\n",
        "\n",
        "    # read integrated dataset\n",
        "    integrated_data = sc.read(os.path.join(inPath, f\"{dataset_name}_integrated.h5ad\"))\n",
        "\n",
        "    if dataset_name == 'Immune_ALL_hum_mou':\n",
        "      categories.append('species')\n",
        "\n",
        "    if dataset_name == 'Lung_atlas_public':\n",
        "      integrated_data.obs['location'] = integrated_data.obs[batch_key].map(\n",
        "          lambda x: 'Airways' if x in lung_biopsies_batchs else 'Lung Parenchyma'\n",
        "      )\n",
        "      categories.append('location')\n",
        "\n",
        "    # method specific data preparations\n",
        "    if method == 'ABC':\n",
        "      integrated_data.obsm['X_emb'] = integrated_data.X.copy()\n",
        "\n",
        "    # plot integrated dataset\n",
        "    print(\"Plotting integrated dataset-\")\n",
        "    plot_name = f\"{method}_{dataset_name}_integrated_NEW\"\n",
        "\n",
        "    if method in embedding_methods:\n",
        "      plottingData.plot_datasets(integrated_data, categories, outPath, dpi,\n",
        "                                 plot_name, use_emb=True)\n",
        "\n",
        "    else:\n",
        "      plottingData.plot_datasets(integrated_data, categories, outPath, dpi,\n",
        "                                 plot_name, use_emb=False)\n",
        "\n"
      ]
    }
  ]
}