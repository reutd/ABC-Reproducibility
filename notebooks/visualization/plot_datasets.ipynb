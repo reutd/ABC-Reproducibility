{
  "nbformat": 4,
  "nbformat_minor": 0,
  "metadata": {
    "colab": {
      "provenance": [],
      "gpuType": "A100",
      "machine_shape": "hm"
    },
    "kernelspec": {
      "name": "python3",
      "display_name": "Python 3"
    },
    "language_info": {
      "name": "python"
    },
    "accelerator": "GPU",
    "gpuClass": "standard"
  },
  "cells": [
    {
      "cell_type": "code",
      "source": [
        "!pip install scanpy==1.9.1\n",
        "!pip install matplotlib==3.6"
      ],
      "metadata": {
        "id": "cMPrgehUBk-I"
      },
      "execution_count": null,
      "outputs": []
    },
    {
      "cell_type": "code",
      "execution_count": null,
      "metadata": {
        "id": "Rvp-ZZbxP-1I"
      },
      "outputs": [],
      "source": [
        "import os\n",
        "from pathlib import Path\n",
        "import sys\n",
        "import scanpy as sc\n",
        "\n",
        "# When using colab, set the path to the modules directory to use saved modules\n",
        "sys.path.insert(0,'/content/drive/MyDrive/modules/')\n",
        "import plottingData\n",
        "from datasets_dict import datasets\n",
        "\n",
        "methods = [\n",
        "            'scvi',\n",
        "            'scanvi',\n",
        "            'scanorama',\n",
        "            'combat',\n",
        "            'Seurat',\n",
        "            'AutoClass',\n",
        "            'scgen',\n",
        "            'ABC',\n",
        "            'harmony',\n",
        "            'scDREAMER',\n",
        "            'CLEAR',\n",
        "            ]\n",
        "\n",
        "embedding_methods = ['ABC', 'harmony', 'scDREAMER', 'CLEAR']\n",
        "\n",
        "\n",
        "path = '/content/drive/MyDrive/Colab Notebooks/integrationDatasets/integratedDatasets/'\n",
        "save_path = '/content/drive/MyDrive/Colab Notebooks/integrationDatasets/final_plots/'\n",
        "dpi = 300\n",
        "\n",
        "for method in methods:\n",
        "\n",
        "  for dataset_name in datasets.keys():\n",
        "\n",
        "    # get dataset parameters from the dictionary\n",
        "    label_key = datasets[dataset_name]['label_key']\n",
        "    batch_key = datasets[dataset_name]['batch_key']\n",
        "    categories = [batch_key, label_key]\n",
        "\n",
        "    # define paths\n",
        "    inPath = os.path.join(path, method)\n",
        "    outPath = os.path.join(save_path, method)\n",
        "\n",
        "    # create directory if does not exists\n",
        "    Path(outPath).mkdir(parents=True, exist_ok=True)\n",
        "\n",
        "    # read integrated dataset\n",
        "    integrated_data = sc.read(os.path.join(inPath, f\"{dataset_name}_integrated.h5ad\"))\n",
        "\n",
        "    # plot integrated dataset\n",
        "    print(\"Plotting integrated dataset-\")\n",
        "    plot_name = f\"{method}_{dataset_name}_integrated\"\n",
        "\n",
        "    if method in embedding_methods:\n",
        "      plottingData.plot_datasets(integrated_data, categories, outPath, dpi,\n",
        "                                 plot_name, use_emb=True)\n",
        "\n",
        "    else:\n",
        "      plottingData.plot_datasets(integrated_data, categories, outPath, dpi,\n",
        "                                 plot_name, use_emb=False)\n",
        "\n"
      ]
    }
  ]
}