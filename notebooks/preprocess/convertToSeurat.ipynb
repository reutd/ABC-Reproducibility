{
  "nbformat": 4,
  "nbformat_minor": 0,
  "metadata": {
    "colab": {
      "provenance": [],
      "gpuType": "A100",
      "machine_shape": "hm"
    },
    "kernelspec": {
      "name": "python3",
      "display_name": "Python 3"
    },
    "language_info": {
      "name": "python"
    },
    "accelerator": "GPU",
    "gpuClass": "standard"
  },
  "cells": [
    {
      "cell_type": "code",
      "source": [
        "!pip install scanpy==1.9.1\n",
        "!pip install matplotlib==3.6\n",
        "!pip install -Iv rpy2==3.4.3\n",
        "%load_ext rpy2.ipython\n",
        "\n",
        "!pip install scib\n",
        "!pip install anndata2ri\n"
      ],
      "metadata": {
        "id": "cMPrgehUBk-I"
      },
      "execution_count": null,
      "outputs": []
    },
    {
      "cell_type": "code",
      "source": [
        "%%R\n",
        "if (!require(\"BiocManager\", quietly = TRUE))\n",
        "  install.packages(\"BiocManager\")\n",
        "\n",
        "BiocManager::install(\"S4Vectors\")\n",
        "BiocManager::install(\"SingleCellExperiment\")\n",
        "\n",
        "install.packages('Seurat')\n",
        "library(Seurat)\n"
      ],
      "metadata": {
        "id": "Mi9HJgYlkRyj"
      },
      "execution_count": null,
      "outputs": []
    },
    {
      "cell_type": "code",
      "execution_count": null,
      "metadata": {
        "id": "Rvp-ZZbxP-1I"
      },
      "outputs": [],
      "source": [
        "# convert datasets to Seurat objects for integration task\n",
        "import os\n",
        "import scipy\n",
        "import scanpy as sc\n",
        "import scib\n",
        "import numpy as np\n",
        "from pathlib import Path\n",
        "import sys\n",
        "\n",
        "# When using colab, set the path to the modules directory to use saved modules\n",
        "sys.path.append('/content/drive/MyDrive/modules/')\n",
        "from datasets_dict import datasets\n",
        "\n",
        "# path to the original dataset (after subset to 3000 highly variable genes)\n",
        "base_path = '/content/drive/MyDrive/Colab Notebooks/integrationDatasets/'\n",
        "seurat_path = '/content/drive/MyDrive/Colab Notebooks/integrationDatasets/Seurat/originalObjects/'\n",
        "\n",
        "\n",
        "# convert each dataset from anndata object to Seurat (.rds) object\n",
        "# for dataset_name in datasets.keys():\n",
        "for dataset_name in ['small_atac_windows']:\n",
        "  \n",
        "  # get dataset parameters\n",
        "  batch_key = datasets[dataset_name]['batch_key']\n",
        "\n",
        "  # set paths\n",
        "  inPath = os.path.join(base_path, f\"{dataset_name}_hvg.h5ad\")\n",
        "  outPath = os.path.join(seurat_path)\n",
        "\n",
        "  # create directory if does not exists\n",
        "  Path(outPath).mkdir(parents=True, exist_ok=True)\n",
        "\n",
        "  # read the original dataset\n",
        "  orig_data = sc.read(inPath)\n",
        "\n",
        "  # make sure data is not sparse\n",
        "  if scipy.sparse.issparse(orig_data.X):\n",
        "    print(\"The given adata.X matrix is sparse. Converting to dense.\")\n",
        "    orig_data.X = np.asarray(orig_data.X.todense())\n",
        "\n",
        "  # save Seurat (.rds) object\n",
        "  print(\"Save as RDS\")\n",
        "  scib.preprocessing.saveSeurat(orig_data, f'{seurat_path}{dataset_name}_hvg.rds', batch_key)\n",
        "  print(\"Converted: \", dataset_name)\n",
        "\n",
        "\n"
      ]
    }
  ]
}