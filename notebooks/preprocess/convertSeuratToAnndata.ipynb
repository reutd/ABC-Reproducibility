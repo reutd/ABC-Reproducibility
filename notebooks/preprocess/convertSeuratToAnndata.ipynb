{
  "nbformat": 4,
  "nbformat_minor": 0,
  "metadata": {
    "colab": {
      "provenance": [],
      "gpuType": "A100",
      "machine_shape": "hm"
    },
    "kernelspec": {
      "name": "python3",
      "display_name": "Python 3"
    },
    "language_info": {
      "name": "python"
    },
    "accelerator": "GPU",
    "gpuClass": "standard"
  },
  "cells": [
    {
      "cell_type": "code",
      "source": [
        "!pip install scanpy==1.9.1\n",
        "!pip install matplotlib==3.6\n",
        "!pip install scib\n",
        "!pip install -Iv rpy2==3.4.3\n",
        "%load_ext rpy2.ipython\n",
        "!pip install scib\n",
        "!pip install anndata2ri\n",
        "!pip install louvain"
      ],
      "metadata": {
        "id": "cMPrgehUBk-I"
      },
      "execution_count": null,
      "outputs": []
    },
    {
      "cell_type": "code",
      "source": [
        "%%R\n",
        "if (!require(\"BiocManager\", quietly = TRUE))\n",
        "  install.packages(\"BiocManager\")\n",
        "\n",
        "BiocManager::install(\"S4Vectors\")\n",
        "BiocManager::install(\"SingleCellExperiment\")\n",
        "\n",
        "install.packages('Seurat')\n",
        "library(Seurat)"
      ],
      "metadata": {
        "id": "Mi9HJgYlkRyj"
      },
      "execution_count": null,
      "outputs": []
    },
    {
      "cell_type": "code",
      "execution_count": null,
      "metadata": {
        "id": "Rvp-ZZbxP-1I"
      },
      "outputs": [],
      "source": [
        "import scanpy as sc\n",
        "import scib\n",
        "from pathlib import Path\n",
        "import sys\n",
        "import os\n",
        "\n",
        "# When using colab, set the path to the modules directory to use saved modules\n",
        "sys.path.append('/content/drive/MyDrive/modules/')\n",
        "from datasets_dict import datasets\n",
        "\n",
        "# paths to Seurat objects and to anndata destination (base path)\n",
        "anndata_path = '/content/drive/MyDrive/Colab Notebooks/integrationDatasets/integratedDatasets/Seurat/'\n",
        "seurat_path = '/content/drive/MyDrive/Colab Notebooks/integrationDatasets/Seurat/originalObjects/'\n",
        "\n",
        "# for dataset_name in datasets.keys():\n",
        "for dataset_name in ['small_atac_windows']:\n",
        "\n",
        "  # set paths\n",
        "  inPath = f\"{seurat_path}{dataset_name}_integrated.rds\"\n",
        "  # outPath = f\"{anndata_path}\"\n",
        "\n",
        "  # create directory if does not exists\n",
        "  Path(anndata_path).mkdir(parents=True, exist_ok=True)\n",
        "\n",
        "  # read Seurat object (.rds) into anndata\n",
        "  print(\"Read seurat object, convert and save as anndata object\")\n",
        "  anndata = scib.preprocessing.readSeurat(inPath)\n",
        "  print(\"Converted: \", dataset_name)\n",
        "\n",
        "  # save as anndata object\n",
        "  sc.write(os.path.join(anndata_path, f\"{dataset_name}_integrated.h5ad\"), anndata)\n",
        "  print(\"saved\")\n"
      ]
    }
  ]
}