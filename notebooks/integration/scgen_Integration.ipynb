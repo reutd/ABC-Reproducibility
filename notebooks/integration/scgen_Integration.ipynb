{
  "nbformat": 4,
  "nbformat_minor": 0,
  "metadata": {
    "colab": {
      "provenance": [],
      "gpuType": "V100",
      "machine_shape": "hm"
    },
    "kernelspec": {
      "name": "python3",
      "display_name": "Python 3"
    },
    "language_info": {
      "name": "python"
    },
    "accelerator": "GPU",
    "gpuClass": "standard"
  },
  "cells": [
    {
      "cell_type": "code",
      "source": [
        "# install packages\n",
        "!pip install git+https://github.com/theislab/scgen.git\n",
        "!pip install scanpy==1.9.1\n",
        "!pip install matplotlib==3.6\n",
        "!pip install scvi-tools\n"
      ],
      "metadata": {
        "id": "kSAiJVPK87Um"
      },
      "execution_count": null,
      "outputs": []
    },
    {
      "cell_type": "code",
      "execution_count": null,
      "metadata": {
        "id": "Rvp-ZZbxP-1I"
      },
      "outputs": [],
      "source": [
        "import os\n",
        "from pathlib import Path\n",
        "import scanpy as sc\n",
        "import time\n",
        "import scgen\n",
        "import sys\n",
        "import pandas as pd\n",
        "\n",
        "# When using colab, set the path to the modules directory to use saved modules\n",
        "sys.path.append('/content/drive/MyDrive/modules/')\n",
        "from datasets_dict import datasets\n",
        "\n",
        "# path to the original dataset (after subset to 3000 highly variable genes)\n",
        "base_path = '/content/drive/MyDrive/Colab Notebooks/integrationDatasets/'\n",
        "execution_times = {}\n",
        "\n",
        "# for dataset_name in datasets.keys():\n",
        "for dataset_name in ['small_atac_windows']:\n",
        "\n",
        "  # get dataset parameters\n",
        "  label_key = datasets[dataset_name]['label_key']\n",
        "  batch_key = datasets[dataset_name]['batch_key']\n",
        "\n",
        "  # set paths\n",
        "  inPath = os.path.join(base_path, f\"{dataset_name}_hvg.h5ad\")\n",
        "  outPath = os.path.join(base_path, 'integratedDatasets', 'scgen')\n",
        "  \n",
        "  # create directory if does not exists\n",
        "  Path(outPath).mkdir(parents=True, exist_ok=True)\n",
        "\n",
        "  # read the original dataset\n",
        "  adata = sc.read(inPath)\n",
        "\n",
        "  # integrate the dataset\n",
        "  start_time = time.time()\n",
        "  scgen.SCGEN.setup_anndata(adata, batch_key=batch_key, labels_key=label_key)\n",
        "\n",
        "  model = scgen.SCGEN(adata)\n",
        "  model.save(\"scgen_model_batch_removal.pt\", overwrite=True)\n",
        "  model.train(\n",
        "      max_epochs=100,\n",
        "      batch_size=32,\n",
        "      early_stopping=True,\n",
        "      early_stopping_patience=25,\n",
        "  )\n",
        "\n",
        "  integrated = model.batch_removal()\n",
        "  end_time = time.time()\n",
        "\n",
        "  # save integration duration time\n",
        "  elapsed_time = end_time - start_time\n",
        "  minutes, seconds = divmod(elapsed_time, 60)\n",
        "  execution_times[dataset_name] = elapsed_time\n",
        "\n",
        "  print(\"Integrated: \", dataset_name)\n",
        "  print(f\"Duration: {minutes} minutes and {seconds} seconds\")\n",
        "  \n",
        "  # write integrated data\n",
        "  sc.write(os.path.join(outPath, f\"{dataset_name}_integrated.h5ad\"), integrated)\n",
        "  print(\"Integrated data saved\")\n",
        "\n",
        "# write execution times data\n",
        "df = pd.DataFrame(list(execution_times.items()), columns=['Dataset', 'Execution Time'])\n",
        "df.to_csv(os.path.join(outPath, 'execution_times.csv'), index=False)\n",
        "\n"
      ]
    }
  ]
}