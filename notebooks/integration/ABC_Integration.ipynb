{
  "cells": [
    {
      "cell_type": "code",
      "execution_count": null,
      "metadata": {
        "id": "ilDQwld2pCyV"
      },
      "outputs": [],
      "source": [
        "!pip install git+https://github.com/reutd/ABC.git\n",
        "!pip install matplotlib==3.6"
      ]
    },
    {
      "cell_type": "code",
      "execution_count": null,
      "metadata": {
        "id": "Rvp-ZZbxP-1I"
      },
      "outputs": [],
      "source": [
        "from ABC import ABC\n",
        "import os\n",
        "from pathlib import Path\n",
        "import scanpy as sc\n",
        "import pandas as pd\n",
        "import time\n",
        "import sys\n",
        "\n",
        "\n",
        "# When using colab, set the path to the modules directory to use saved modules\n",
        "sys.path.append('/content/drive/MyDrive/modules/')\n",
        "from datasets_dict import datasets\n",
        "\n",
        "# path to the original dataset (after subset to 3000 highly variable genes)\n",
        "base_path = '/content/drive/MyDrive/Colab Notebooks/integrationDatasets/'\n",
        "execution_times = {}\n",
        "\n",
        "\n",
        "# for dataset_name in datasets.keys():\n",
        "for dataset_name in ['small_atac_windows']:\n",
        "\n",
        "  # get dataset parameters\n",
        "  label_key = datasets[dataset_name]['label_key']\n",
        "  batch_key = datasets[dataset_name]['batch_key']\n",
        "  ATAC = datasets[dataset_name]['ATAC']\n",
        "  log_orig = datasets[dataset_name]['log']\n",
        "\n",
        "  # set paths\n",
        "  inPath = os.path.join(base_path, f\"{dataset_name}_hvg.h5ad\")\n",
        "  outPath = os.path.join(base_path, 'integratedDatasets', 'ABC')\n",
        "\n",
        "  # create directory if does not exists\n",
        "  Path(outPath).mkdir(parents=True, exist_ok=True)\n",
        "\n",
        "  # read the original dataset\n",
        "  adata = sc.read(inPath)\n",
        "\n",
        "  # integrate the dataset\n",
        "  start_time = time.time()  \n",
        "  model = ABC(adata, batch_key, label_key)\n",
        "  integrated = model.batch_correction()\n",
        "  end_time = time.time()\n",
        "\n",
        "  # save integration duration time\n",
        "  elapsed_time = end_time - start_time\n",
        "  minutes, seconds = divmod(elapsed_time, 60)\n",
        "  execution_times[dataset_name] = elapsed_time\n",
        "\n",
        "  print(\"Integrated: \", dataset_name)\n",
        "  print(f\"Duration: {minutes} minutes and {seconds} seconds\")\n",
        "\n",
        "  # write integrated data\n",
        "  sc.write(os.path.join(outPath, f\"{dataset_name}_integrated.h5ad\"), integrated)\n",
        "  print(\"Integrated data saved\")  \n",
        "\n",
        "\n",
        "# write execution times data\n",
        "df = pd.DataFrame(list(execution_times.items()), columns=['Dataset', 'Execution Time'])\n",
        "df.to_csv(os.path.join(outPath, 'execution_times.csv'), index=False)\n",
        "\n"
      ]
    },
    {
      "cell_type": "code",
      "execution_count": null,
      "metadata": {
        "id": "MUVKlnVB7wvF"
      },
      "outputs": [],
      "source": [
        "from google.colab import drive\n",
        "drive.mount('/content/drive')"
      ]
    }
  ],
  "metadata": {
    "accelerator": "GPU",
    "colab": {
      "machine_shape": "hm",
      "provenance": [],
      "gpuType": "V100"
    },
    "gpuClass": "standard",
    "kernelspec": {
      "display_name": "Python 3",
      "name": "python3"
    },
    "language_info": {
      "name": "python"
    }
  },
  "nbformat": 4,
  "nbformat_minor": 0
}